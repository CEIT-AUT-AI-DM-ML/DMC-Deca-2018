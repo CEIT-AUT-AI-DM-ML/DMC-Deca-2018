{
 "cells": [
  {
   "cell_type": "markdown",
   "metadata": {},
   "source": [
    "# Load Data"
   ]
  },
  {
   "cell_type": "code",
   "execution_count": 1,
   "metadata": {},
   "outputs": [
    {
     "name": "stderr",
     "output_type": "stream",
     "text": [
      "Using TensorFlow backend.\n"
     ]
    }
   ],
   "source": [
    "import numpy as np\n",
    "from keras.datasets import mnist\n",
    "\n",
    "(X_train, y_train), (X_test, y_test) = mnist.load_data()"
   ]
  },
  {
   "cell_type": "code",
   "execution_count": 2,
   "metadata": {},
   "outputs": [
    {
     "name": "stdout",
     "output_type": "stream",
     "text": [
      "(60000, 28, 28)\n",
      "(60000,)\n",
      "(10000, 28, 28)\n",
      "(10000,)\n"
     ]
    }
   ],
   "source": [
    "print(X_train.shape)\n",
    "print(y_train.shape)\n",
    "print(X_test.shape)\n",
    "print(y_test.shape)"
   ]
  },
  {
   "cell_type": "code",
   "execution_count": 3,
   "metadata": {},
   "outputs": [
    {
     "data": {
      "text/plain": [
       "255"
      ]
     },
     "execution_count": 3,
     "metadata": {},
     "output_type": "execute_result"
    }
   ],
   "source": [
    "np.max(X_train)"
   ]
  },
  {
   "cell_type": "code",
   "execution_count": 4,
   "metadata": {
    "collapsed": true
   },
   "outputs": [],
   "source": [
    "X_train = X_train / 255.\n",
    "X_test = X_test / 255."
   ]
  },
  {
   "cell_type": "markdown",
   "metadata": {},
   "source": [
    "# Network (Model)"
   ]
  },
  {
   "cell_type": "code",
   "execution_count": 5,
   "metadata": {
    "collapsed": true
   },
   "outputs": [],
   "source": [
    "from keras.models import Sequential\n",
    "from keras.layers import Dense\n",
    "\n",
    "model = Sequential()\n",
    "\n",
    "model.add(Dense(128, activation='relu', input_shape=(28*28,)))\n",
    "model.add(Dense(32, activation='relu'))\n",
    "model.add(Dense(10, activation='softmax'))"
   ]
  },
  {
   "cell_type": "markdown",
   "metadata": {},
   "source": [
    "## Loss & Optimizer"
   ]
  },
  {
   "cell_type": "code",
   "execution_count": 6,
   "metadata": {
    "collapsed": true
   },
   "outputs": [],
   "source": [
    "from keras import optimizers\n",
    "\n",
    "adam = optimizers.Adam(lr=0.01)\n",
    "\n",
    "model.compile(loss='categorical_crossentropy',\n",
    "              optimizer=adam,\n",
    "              metrics=['accuracy'])"
   ]
  },
  {
   "cell_type": "markdown",
   "metadata": {},
   "source": [
    "## Learn Model (Optimization)"
   ]
  },
  {
   "cell_type": "code",
   "execution_count": 7,
   "metadata": {},
   "outputs": [
    {
     "name": "stdout",
     "output_type": "stream",
     "text": [
      "Train on 60000 samples, validate on 10000 samples\n",
      "Epoch 1/10\n",
      "60000/60000 [==============================] - 6s 104us/step - loss: 0.2600 - acc: 0.9232 - val_loss: 0.1946 - val_acc: 0.9451\n",
      "Epoch 2/10\n",
      "60000/60000 [==============================] - 6s 103us/step - loss: 0.1690 - acc: 0.9537 - val_loss: 0.1687 - val_acc: 0.9555\n",
      "Epoch 3/10\n",
      "60000/60000 [==============================] - 6s 102us/step - loss: 0.1436 - acc: 0.9611 - val_loss: 0.1532 - val_acc: 0.9591\n",
      "Epoch 4/10\n",
      "60000/60000 [==============================] - 6s 102us/step - loss: 0.1332 - acc: 0.9646 - val_loss: 0.1677 - val_acc: 0.9599\n",
      "Epoch 5/10\n",
      "60000/60000 [==============================] - 6s 102us/step - loss: 0.1221 - acc: 0.9678 - val_loss: 0.1497 - val_acc: 0.9607\n",
      "Epoch 6/10\n",
      "60000/60000 [==============================] - 6s 102us/step - loss: 0.1129 - acc: 0.9707 - val_loss: 0.1570 - val_acc: 0.9653\n",
      "Epoch 7/10\n",
      "60000/60000 [==============================] - 6s 104us/step - loss: 0.1116 - acc: 0.9721 - val_loss: 0.1627 - val_acc: 0.9658\n",
      "Epoch 8/10\n",
      "60000/60000 [==============================] - 6s 95us/step - loss: 0.1031 - acc: 0.9745 - val_loss: 0.1403 - val_acc: 0.9692\n",
      "Epoch 9/10\n",
      "60000/60000 [==============================] - 6s 93us/step - loss: 0.1011 - acc: 0.9760 - val_loss: 0.1550 - val_acc: 0.9676\n",
      "Epoch 10/10\n",
      "60000/60000 [==============================] - 6s 101us/step - loss: 0.0990 - acc: 0.9764 - val_loss: 0.1621 - val_acc: 0.9676\n"
     ]
    },
    {
     "data": {
      "text/plain": [
       "<keras.callbacks.History at 0x7f5a6a502c18>"
      ]
     },
     "execution_count": 7,
     "metadata": {},
     "output_type": "execute_result"
    }
   ],
   "source": [
    "from keras.utils import np_utils\n",
    "\n",
    "X = X_train.reshape((-1, 28*28))\n",
    "y = np_utils.to_categorical(y_train, 10)\n",
    "\n",
    "X_val = X_test.reshape((-1, 28*28))\n",
    "y_val = np_utils.to_categorical(y_test, 10)\n",
    "\n",
    "model.fit(X, y, batch_size=32, epochs=10, verbose=1, validation_data=(X_val, y_val))"
   ]
  },
  {
   "cell_type": "markdown",
   "metadata": {},
   "source": [
    "## Evaluation"
   ]
  },
  {
   "cell_type": "code",
   "execution_count": 8,
   "metadata": {},
   "outputs": [
    {
     "data": {
      "text/plain": [
       "0.9676"
      ]
     },
     "execution_count": 8,
     "metadata": {},
     "output_type": "execute_result"
    }
   ],
   "source": [
    "loss, score = model.evaluate(X_val, y_val, verbose=0)\n",
    "score"
   ]
  },
  {
   "cell_type": "code",
   "execution_count": null,
   "metadata": {
    "collapsed": true
   },
   "outputs": [],
   "source": []
  }
 ],
 "metadata": {
  "kernelspec": {
   "display_name": "MLW2",
   "language": "python",
   "name": "mlw2"
  },
  "language_info": {
   "codemirror_mode": {
    "name": "ipython",
    "version": 3
   },
   "file_extension": ".py",
   "mimetype": "text/x-python",
   "name": "python",
   "nbconvert_exporter": "python",
   "pygments_lexer": "ipython3",
   "version": "3.6.4"
  }
 },
 "nbformat": 4,
 "nbformat_minor": 2
}
