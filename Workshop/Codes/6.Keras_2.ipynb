{
 "cells": [
  {
   "cell_type": "markdown",
   "metadata": {
    "colab_type": "text",
    "id": "s7LCB9BfCThG"
   },
   "source": [
    "# Load Data"
   ]
  },
  {
   "cell_type": "code",
   "execution_count": 1,
   "metadata": {
    "colab": {
     "autoexec": {
      "startup": false,
      "wait_interval": 0
     },
     "base_uri": "https://localhost:8080/",
     "height": 34,
     "output_extras": [
      {
       "item_id": 1
      }
     ]
    },
    "colab_type": "code",
    "executionInfo": {
     "elapsed": 3773,
     "status": "ok",
     "timestamp": 1518120544866,
     "user": {
      "displayName": "Amir Ali Moinfar",
      "photoUrl": "//lh6.googleusercontent.com/-ukVMgwbuRwg/AAAAAAAAAAI/AAAAAAAABek/sjAg7ijXZLU/s50-c-k-no/photo.jpg",
      "userId": "111635885532141665073"
     },
     "user_tz": -210
    },
    "id": "3qzuqg5PTn6x",
    "outputId": "899ba262-360b-4180-fab6-c532de66ac01"
   },
   "outputs": [
    {
     "name": "stderr",
     "output_type": "stream",
     "text": [
      "Using TensorFlow backend.\n"
     ]
    }
   ],
   "source": [
    "from keras.datasets import mnist\n",
    "\n",
    "(X_train, y_train), (X_test, y_test) = mnist.load_data()"
   ]
  },
  {
   "cell_type": "code",
   "execution_count": 0,
   "metadata": {
    "colab": {
     "autoexec": {
      "startup": false,
      "wait_interval": 0
     }
    },
    "colab_type": "code",
    "collapsed": true,
    "id": "BKayxgZuXibS"
   },
   "outputs": [],
   "source": [
    "X_train = X_train / 255.\n",
    "X_test = X_test / 255."
   ]
  },
  {
   "cell_type": "markdown",
   "metadata": {
    "colab_type": "text",
    "id": "zKg3LZ9ej538"
   },
   "source": [
    "# Network (Model)"
   ]
  },
  {
   "cell_type": "code",
   "execution_count": 0,
   "metadata": {
    "colab": {
     "autoexec": {
      "startup": false,
      "wait_interval": 0
     }
    },
    "colab_type": "code",
    "collapsed": true,
    "id": "5qITL52Gj5Jr"
   },
   "outputs": [],
   "source": [
    "from keras.models import Sequential\n",
    "from keras.layers import Dense, Flatten, Convolution2D\n",
    "\n",
    "model = Sequential()\n",
    "\n",
    "model.add(Convolution2D(64, (3, 3), activation='relu', input_shape=(28, 28, 1)))\n",
    "model.add(Convolution2D(16, (3, 3), activation='relu'))\n",
    "model.add(Flatten())\n",
    "model.add(Dense(128, activation='relu'))\n",
    "model.add(Dense(10, activation='softmax'))"
   ]
  },
  {
   "cell_type": "markdown",
   "metadata": {
    "colab_type": "text",
    "id": "ZPsJxpzTkAW7"
   },
   "source": [
    "## Loss & Optimizer"
   ]
  },
  {
   "cell_type": "code",
   "execution_count": 0,
   "metadata": {
    "colab": {
     "autoexec": {
      "startup": false,
      "wait_interval": 0
     }
    },
    "colab_type": "code",
    "collapsed": true,
    "id": "51BatCbFj-nM"
   },
   "outputs": [],
   "source": [
    "from keras import optimizers\n",
    "\n",
    "adam = optimizers.Adam(lr=0.001)\n",
    "\n",
    "model.compile(loss='categorical_crossentropy',\n",
    "              optimizer=adam,\n",
    "              metrics=['accuracy'])"
   ]
  },
  {
   "cell_type": "markdown",
   "metadata": {
    "colab_type": "text",
    "id": "7f5zviZbkE1u"
   },
   "source": [
    "## Learn Model (Optimization)\n"
   ]
  },
  {
   "cell_type": "code",
   "execution_count": 5,
   "metadata": {
    "colab": {
     "autoexec": {
      "startup": false,
      "wait_interval": 0
     },
     "base_uri": "https://localhost:8080/",
     "height": 445,
     "output_extras": [
      {
       "item_id": 1
      },
      {
       "item_id": 48
      },
      {
       "item_id": 96
      },
      {
       "item_id": 155
      },
      {
       "item_id": 215
      },
      {
       "item_id": 270
      },
      {
       "item_id": 305
      },
      {
       "item_id": 306
      }
     ]
    },
    "colab_type": "code",
    "executionInfo": {
     "elapsed": 195665,
     "status": "ok",
     "timestamp": 1518120794410,
     "user": {
      "displayName": "Amir Ali Moinfar",
      "photoUrl": "//lh6.googleusercontent.com/-ukVMgwbuRwg/AAAAAAAAAAI/AAAAAAAABek/sjAg7ijXZLU/s50-c-k-no/photo.jpg",
      "userId": "111635885532141665073"
     },
     "user_tz": -210
    },
    "id": "uMtGPEgLkDiB",
    "outputId": "31bd0b26-e7b5-44d6-dedf-cb05f336229b"
   },
   "outputs": [
    {
     "name": "stderr",
     "output_type": "stream",
     "text": [
      "/usr/local/lib/python3.6/dist-packages/keras/models.py:944: UserWarning: The `nb_epoch` argument in `fit` has been renamed `epochs`.\n",
      "  warnings.warn('The `nb_epoch` argument in `fit` '\n"
     ]
    },
    {
     "name": "stdout",
     "output_type": "stream",
     "text": [
      "Train on 60000 samples, validate on 10000 samples\n",
      "Epoch 1/10\n",
      "60000/60000 [==============================] - 21s 343us/step - loss: 0.1189 - acc: 0.9637 - val_loss: 0.0512 - val_acc: 0.9828\n",
      "Epoch 2/10\n",
      "60000/60000 [==============================] - 19s 320us/step - loss: 0.0391 - acc: 0.9874 - val_loss: 0.0370 - val_acc: 0.9877\n",
      "Epoch 3/10\n",
      "60000/60000 [==============================] - 19s 321us/step - loss: 0.0227 - acc: 0.9927 - val_loss: 0.0472 - val_acc: 0.9852\n",
      "Epoch 4/10\n",
      "60000/60000 [==============================] - 19s 323us/step - loss: 0.0159 - acc: 0.9946 - val_loss: 0.0463 - val_acc: 0.9870\n",
      "Epoch 5/10\n",
      "60000/60000 [==============================] - 19s 320us/step - loss: 0.0111 - acc: 0.9965 - val_loss: 0.0501 - val_acc: 0.9861\n",
      "Epoch 6/10\n",
      "60000/60000 [==============================] - 19s 322us/step - loss: 0.0089 - acc: 0.9970 - val_loss: 0.0527 - val_acc: 0.9885\n",
      "Epoch 7/10\n",
      "60000/60000 [==============================] - 19s 323us/step - loss: 0.0080 - acc: 0.9976 - val_loss: 0.0428 - val_acc: 0.9898\n",
      "Epoch 8/10\n",
      "60000/60000 [==============================] - 19s 322us/step - loss: 0.0067 - acc: 0.9978 - val_loss: 0.0460 - val_acc: 0.9880\n",
      "Epoch 9/10\n",
      "60000/60000 [==============================] - 19s 324us/step - loss: 0.0053 - acc: 0.9981 - val_loss: 0.0536 - val_acc: 0.9887\n",
      "Epoch 10/10\n",
      "60000/60000 [==============================] - 19s 324us/step - loss: 0.0051 - acc: 0.9986 - val_loss: 0.0852 - val_acc: 0.9851\n"
     ]
    },
    {
     "data": {
      "text/plain": [
       "<keras.callbacks.History at 0x7fe3b719a2e8>"
      ]
     },
     "execution_count": 5,
     "metadata": {
      "tags": []
     },
     "output_type": "execute_result"
    }
   ],
   "source": [
    "from keras.utils import np_utils\n",
    "\n",
    "X = X_train.reshape((-1, 28, 28, 1))\n",
    "y = np_utils.to_categorical(y_train, 10)\n",
    "\n",
    "X_val = X_test.reshape((-1, 28, 28, 1))\n",
    "y_val = np_utils.to_categorical(y_test, 10)\n",
    "\n",
    "model.fit(X, y, batch_size=32, nb_epoch=10, verbose=1, validation_data=(X_val, y_val))"
   ]
  },
  {
   "cell_type": "markdown",
   "metadata": {
    "colab_type": "text",
    "id": "oB3GwARGCZnG"
   },
   "source": [
    "## Evaluation"
   ]
  },
  {
   "cell_type": "code",
   "execution_count": 6,
   "metadata": {
    "colab": {
     "autoexec": {
      "startup": false,
      "wait_interval": 0
     },
     "base_uri": "https://localhost:8080/",
     "height": 34,
     "output_extras": [
      {
       "item_id": 1
      }
     ]
    },
    "colab_type": "code",
    "executionInfo": {
     "elapsed": 1985,
     "status": "ok",
     "timestamp": 1518120803190,
     "user": {
      "displayName": "Amir Ali Moinfar",
      "photoUrl": "//lh6.googleusercontent.com/-ukVMgwbuRwg/AAAAAAAAAAI/AAAAAAAABek/sjAg7ijXZLU/s50-c-k-no/photo.jpg",
      "userId": "111635885532141665073"
     },
     "user_tz": -210
    },
    "id": "XcRHyhkfnpEN",
    "outputId": "89d850b7-5c03-4954-9fb1-164f23c75333"
   },
   "outputs": [
    {
     "data": {
      "text/plain": [
       "0.9851"
      ]
     },
     "execution_count": 6,
     "metadata": {
      "tags": []
     },
     "output_type": "execute_result"
    }
   ],
   "source": [
    "X = X_test.reshape((-1, 28, 28, 1))\n",
    "y = np_utils.to_categorical(y_test, 10)\n",
    "\n",
    "loss, score = model.evaluate(X, y, verbose=0)\n",
    "score"
   ]
  },
  {
   "cell_type": "code",
   "execution_count": 0,
   "metadata": {
    "colab": {
     "autoexec": {
      "startup": false,
      "wait_interval": 0
     }
    },
    "colab_type": "code",
    "collapsed": true,
    "id": "jJkENJB8DRNh"
   },
   "outputs": [],
   "source": []
  }
 ],
 "metadata": {
  "accelerator": "GPU",
  "colab": {
   "collapsed_sections": [],
   "default_view": {},
   "name": "Keras-2.ipynb",
   "provenance": [],
   "version": "0.3.2",
   "views": {}
  },
  "kernelspec": {
   "display_name": "Python 3",
   "language": "python",
   "name": "python3"
  },
  "language_info": {
   "codemirror_mode": {
    "name": "ipython",
    "version": 3
   },
   "file_extension": ".py",
   "mimetype": "text/x-python",
   "name": "python",
   "nbconvert_exporter": "python",
   "pygments_lexer": "ipython3",
   "version": "3.6.4"
  }
 },
 "nbformat": 4,
 "nbformat_minor": 1
}
