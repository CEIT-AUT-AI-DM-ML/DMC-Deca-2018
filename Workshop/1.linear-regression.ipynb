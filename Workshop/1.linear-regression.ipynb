{
 "cells": [
  {
   "cell_type": "markdown",
   "metadata": {},
   "source": [
    "# Data Preparation"
   ]
  },
  {
   "cell_type": "markdown",
   "metadata": {},
   "source": [
    "## Load Data"
   ]
  },
  {
   "cell_type": "code",
   "execution_count": 14,
   "metadata": {},
   "outputs": [],
   "source": [
    "import pandas as pd\n",
    "\n",
    "table = pd.read_excel('ToyotaCorolla.xls', sheetname='data')"
   ]
  },
  {
   "cell_type": "code",
   "execution_count": 15,
   "metadata": {},
   "outputs": [
    {
     "data": {
      "text/plain": [
       "Index([u'Id', u'Model', u'Price', u'Age_08_04', u'Mfg_Month', u'Mfg_Year',\n",
       "       u'KM', u'Fuel_Type', u'HP', u'Met_Color', u'Color', u'Automatic', u'CC',\n",
       "       u'Doors', u'Cylinders', u'Gears', u'Quarterly_Tax', u'Weight',\n",
       "       u'Mfr_Guarantee', u'BOVAG_Guarantee', u'Guarantee_Period', u'ABS',\n",
       "       u'Airbag_1', u'Airbag_2', u'Airco', u'Automatic_airco',\n",
       "       u'Boardcomputer', u'CD_Player', u'Central_Lock', u'Powered_Windows',\n",
       "       u'Power_Steering', u'Radio', u'Mistlamps', u'Sport_Model',\n",
       "       u'Backseat_Divider', u'Metallic_Rim', u'Radio_cassette',\n",
       "       u'Parking_Assistant', u'Tow_Bar'],\n",
       "      dtype='object')"
      ]
     },
     "execution_count": 15,
     "metadata": {},
     "output_type": "execute_result"
    }
   ],
   "source": [
    "table.columns"
   ]
  },
  {
   "cell_type": "markdown",
   "metadata": {},
   "source": [
    "`Fuel_Type` and `Color` are not numeric variabled."
   ]
  },
  {
   "cell_type": "markdown",
   "metadata": {},
   "source": [
    "## Categorical to Numerical Conversion"
   ]
  },
  {
   "cell_type": "code",
   "execution_count": 16,
   "metadata": {},
   "outputs": [
    {
     "name": "stdout",
     "output_type": "stream",
     "text": [
      "('Fuel_Type valuies: ', set([u'Petrol', u'CNG', u'Diesel']))\n",
      "('Color valuies: ', set([u'Blue', u'Grey', u'Yellow', u'Black', u'Beige', u'Violet', u'Green', u'White', u'Silver', u'Red']))\n"
     ]
    }
   ],
   "source": [
    "print(\"Fuel_Type valuies: \", set(table['Fuel_Type']))\n",
    "print(\"Color valuies: \", set(table['Color']))"
   ]
  },
  {
   "cell_type": "code",
   "execution_count": 17,
   "metadata": {
    "collapsed": true
   },
   "outputs": [],
   "source": [
    "data = table[['Id', 'Model', 'Price', 'Age_08_04', 'Mfg_Month', 'Mfg_Year', 'KM',\n",
    "       'HP', 'Met_Color', 'Automatic', 'CC', 'Doors',\n",
    "       'Cylinders', 'Gears', 'Quarterly_Tax', 'Weight', 'Mfr_Guarantee',\n",
    "       'BOVAG_Guarantee', 'Guarantee_Period', 'ABS', 'Airbag_1', 'Airbag_2',\n",
    "       'Airco', 'Automatic_airco', 'Boardcomputer', 'CD_Player',\n",
    "       'Central_Lock', 'Powered_Windows', 'Power_Steering', 'Radio',\n",
    "       'Mistlamps', 'Sport_Model', 'Backseat_Divider', 'Metallic_Rim',\n",
    "       'Radio_cassette', 'Parking_Assistant', 'Tow_Bar']].copy()"
   ]
  },
  {
   "cell_type": "code",
   "execution_count": 18,
   "metadata": {
    "collapsed": true
   },
   "outputs": [],
   "source": [
    "data['Diesel'] = (table['Fuel_Type'] == 'Diesel') * 1\n",
    "data['Petrol'] = (table['Fuel_Type'] == 'Petrol') * 1"
   ]
  },
  {
   "cell_type": "code",
   "execution_count": 19,
   "metadata": {
    "collapsed": true
   },
   "outputs": [],
   "source": [
    "for color_name in list(set(table['Color']))[1:]:\n",
    "    data[color_name] = (table['Color'] == color_name) * 1    "
   ]
  },
  {
   "cell_type": "code",
   "execution_count": 20,
   "metadata": {
    "collapsed": true
   },
   "outputs": [],
   "source": [
    "table = data.copy()"
   ]
  },
  {
   "cell_type": "code",
   "execution_count": 21,
   "metadata": {},
   "outputs": [
    {
     "data": {
      "text/plain": [
       "Index([               u'Id',             u'Model',             u'Price',\n",
       "               u'Age_08_04',         u'Mfg_Month',          u'Mfg_Year',\n",
       "                      u'KM',                u'HP',         u'Met_Color',\n",
       "               u'Automatic',                u'CC',             u'Doors',\n",
       "               u'Cylinders',             u'Gears',     u'Quarterly_Tax',\n",
       "                  u'Weight',     u'Mfr_Guarantee',   u'BOVAG_Guarantee',\n",
       "        u'Guarantee_Period',               u'ABS',          u'Airbag_1',\n",
       "                u'Airbag_2',             u'Airco',   u'Automatic_airco',\n",
       "           u'Boardcomputer',         u'CD_Player',      u'Central_Lock',\n",
       "         u'Powered_Windows',    u'Power_Steering',             u'Radio',\n",
       "               u'Mistlamps',       u'Sport_Model',  u'Backseat_Divider',\n",
       "            u'Metallic_Rim',    u'Radio_cassette', u'Parking_Assistant',\n",
       "                 u'Tow_Bar',            u'Diesel',            u'Petrol',\n",
       "                    u'Grey',            u'Yellow',             u'Black',\n",
       "                   u'Beige',            u'Violet',             u'Green',\n",
       "                   u'White',            u'Silver',               u'Red'],\n",
       "      dtype='object')"
      ]
     },
     "execution_count": 21,
     "metadata": {},
     "output_type": "execute_result"
    }
   ],
   "source": [
    "table.columns"
   ]
  },
  {
   "cell_type": "code",
   "execution_count": 22,
   "metadata": {},
   "outputs": [],
   "source": [
    "table.to_excel('ToyotaCorolla_cat2num.xls', sheet_name='data')"
   ]
  },
  {
   "cell_type": "markdown",
   "metadata": {},
   "source": [
    "## Set Input and Output"
   ]
  },
  {
   "cell_type": "code",
   "execution_count": 13,
   "metadata": {},
   "outputs": [
    {
     "name": "stdout",
     "output_type": "stream",
     "text": [
      "        Id                                              Model  Price  \\\n",
      "0        1      TOYOTA Corolla 2.0 D4D HATCHB TERRA 2/3-Doors  13500   \n",
      "1        2      TOYOTA Corolla 2.0 D4D HATCHB TERRA 2/3-Doors  13750   \n",
      "2        3      TOYOTA Corolla 2.0 D4D HATCHB TERRA 2/3-Doors  13950   \n",
      "3        4      TOYOTA Corolla 2.0 D4D HATCHB TERRA 2/3-Doors  14950   \n",
      "4        5        TOYOTA Corolla 2.0 D4D HATCHB SOL 2/3-Doors  13750   \n",
      "5        6        TOYOTA Corolla 2.0 D4D HATCHB SOL 2/3-Doors  12950   \n",
      "6        7      TOYOTA Corolla 2.0 D4D 90 3DR TERRA 2/3-Doors  16900   \n",
      "7        8      TOYOTA Corolla 2.0 D4D 90 3DR TERRA 2/3-Doors  18600   \n",
      "8        9        TOYOTA Corolla 1800 T SPORT VVT I 2/3-Doors  21500   \n",
      "9       10        TOYOTA Corolla 1.9 D HATCHB TERRA 2/3-Doors  12950   \n",
      "10      11  TOYOTA Corolla 1.8 VVTL-i T-Sport 3-Drs 2/3-Doors  20950   \n",
      "11      12  TOYOTA Corolla 1.8 16V VVTLI 3DR T SPORT BNS 2...  19950   \n",
      "12      13  TOYOTA Corolla 1.8 16V VVTLI 3DR T SPORT 2/3-D...  19600   \n",
      "13      14  TOYOTA Corolla 1.8 16V VVTLI 3DR T SPORT 2/3-D...  21500   \n",
      "14      15  TOYOTA Corolla 1.8 16V VVTLI 3DR T SPORT 2/3-D...  22500   \n",
      "15      16  TOYOTA Corolla 1.8 16V VVTLI 3DR T SPORT 2/3-D...  22000   \n",
      "16      17   TOYOTA Corolla 1.8 16V VVTLI 3DR T SPORT 2/3-...  22750   \n",
      "17      18   TOYOTA Corolla 1.6 VVTI Linea Terra Comfort 2...  17950   \n",
      "18      19             TOYOTA Corolla 1.6 16v L.SOL 2/3-Doors  16750   \n",
      "19      20   TOYOTA Corolla 1.6 16V VVT I 3DR TERRA 2/3-Doors  16950   \n",
      "20      21   TOYOTA Corolla 1.6 16V VVT I 3DR TERRA 2/3-Doors  15950   \n",
      "21      22  TOYOTA Corolla 1.6 16V VVT I 3DR SOL AUT4 2/3-...  16950   \n",
      "22      23     TOYOTA Corolla 1.6 16V VVT I 3DR SOL 2/3-Doors  15950   \n",
      "23      24     TOYOTA Corolla 1.6 16V VVT I 3DR SOL 2/3-Doors  16950   \n",
      "24      25     TOYOTA Corolla 1.6 16V VVT I 3DR SOL 2/3-Doors  16250   \n",
      "25      26     TOYOTA Corolla 1.6 16V VVT I 3DR SOL 2/3-Doors  15950   \n",
      "26      27     TOYOTA Corolla 1.6 16V VVT I 3DR SOL 2/3-Doors  17495   \n",
      "27      28     TOYOTA Corolla 1.6 16V VVT I 3DR SOL 2/3-Doors  15750   \n",
      "28      29     TOYOTA Corolla 1.6 16V VVT I 3DR SOL 2/3-Doors  16950   \n",
      "29      30     TOYOTA Corolla 1.6 16V VVT I 3DR SOL 2/3-Doors  17950   \n",
      "...    ...                                                ...    ...   \n",
      "1406  1413  TOYOTA Corolla 1.6 16V HATCHB LINEA TERRA 2/3-...   8950   \n",
      "1407  1414                 TOYOTA Corolla 1.6 GL LB 4/5-Doors   8250   \n",
      "1408  1415       TOYOTA Corolla 1.6 16V HATCHB GTSI 2/3-Doors   9250   \n",
      "1409  1416  TOYOTA Corolla 1.6 16V LIFTB LINEA TERRA 4/5-D...   7900   \n",
      "1410  1417  TOYOTA Corolla 1.3 16V SEDAN LINEA TERRA 4/5-D...   8500   \n",
      "1411  1418  TOYOTA Corolla 1.6 16V LIFTB LINEA TERRA 4/5-D...   7950   \n",
      "1412  1419  TOYOTA Corolla 1.6 16V HATCHB LINEA TERRA 2/3-...   9950   \n",
      "1413  1420  TOYOTA Corolla 1.6 16V LIFTB LINEA TERRA AUT4 ...   8750   \n",
      "1414  1421  TOYOTA Corolla 1.6 16V HATCHB LINEA TERRA 2/3-...   7500   \n",
      "1415  1422  TOYOTA Corolla 1.6 16V HATCHB LINEA TERRA 2/3-...   6950   \n",
      "1416  1423                    TOYOTA Corolla 1.6 LB 4/5-Doors   8950   \n",
      "1417  1424  TOYOTA Corolla 1.6 16V HATCHB LINEA TERRA AUT4...   8750   \n",
      "1418  1425  TOYOTA Corolla 1.3 16V HATCHB LINEA TERRA 2/3-...   7750   \n",
      "1419  1426  TOYOTA Corolla 1.6 16V HATCHB LINEA TERRA 2/3-...   8450   \n",
      "1420  1427   TOYOTA Corolla 1.6 SDN LINEA TERRA AUT 4/5-Doors   8150   \n",
      "1421  1428  TOYOTA Corolla 1.3 16V HATCHB LINEA TERRA AUT3...   8500   \n",
      "1422  1429  TOYOTA Corolla 1.6 16V HATCHB LINEA TERRA 2/3-...   7600   \n",
      "1423  1430    TOYOTA Corolla 1.3 HB LINEA TERRA AUT 2/3-Doors   7950   \n",
      "1424  1431        TOYOTA Corolla 1.3 3D Linea Terra 2/3-Doors   7750   \n",
      "1425  1432     TOYOTA Corolla 1.3 Linea Terra sedan 4/5-Doors   7950   \n",
      "1426  1433        TOYOTA Corolla 1.6 Lin.Terra Aut. 2/3-Doors   9950   \n",
      "1427  1434  TOYOTA Corolla 1.3 16V HATCHB LINEA TERRA AUT3...   8950   \n",
      "1428  1435  TOYOTA Corolla 1.3 16V HATCHB LINEA TERRA 2/3-...   8450   \n",
      "1429  1436           TOYOTA Corolla 1.3 Linea Terra 4/5-Doors   8950   \n",
      "1430  1437  TOYOTA Corolla 1.3 16V HATCHB LINEA TERRA 2/3-...   8450   \n",
      "1431  1438         TOYOTA Corolla 1.3 16V HATCHB G6 2/3-Doors   7500   \n",
      "1432  1439  TOYOTA Corolla 1.3 16V HATCHB LINEA TERRA 2/3-...  10845   \n",
      "1433  1440  TOYOTA Corolla 1.3 16V HATCHB LINEA TERRA 2/3-...   8500   \n",
      "1434  1441  TOYOTA Corolla 1.3 16V HATCHB LINEA TERRA 2/3-...   7250   \n",
      "1435  1442        TOYOTA Corolla 1.6 LB LINEA TERRA 4/5-Doors   6950   \n",
      "\n",
      "      Age_08_04  Mfg_Month  Mfg_Year     KM   HP  Met_Color  Automatic  ...    \\\n",
      "0            23         10      2002  46986   90          1          0  ...     \n",
      "1            23         10      2002  72937   90          1          0  ...     \n",
      "2            24          9      2002  41711   90          1          0  ...     \n",
      "3            26          7      2002  48000   90          0          0  ...     \n",
      "4            30          3      2002  38500   90          0          0  ...     \n",
      "5            32          1      2002  61000   90          0          0  ...     \n",
      "6            27          6      2002  94612   90          1          0  ...     \n",
      "7            30          3      2002  75889   90          1          0  ...     \n",
      "8            27          6      2002  19700  192          0          0  ...     \n",
      "9            23         10      2002  71138   69          0          0  ...     \n",
      "10           25          8      2002  31461  192          0          0  ...     \n",
      "11           22         11      2002  43610  192          0          0  ...     \n",
      "12           25          8      2002  32189  192          0          0  ...     \n",
      "13           31          2      2002  23000  192          1          0  ...     \n",
      "14           32          1      2002  34131  192          1          0  ...     \n",
      "15           28          5      2002  18739  192          0          0  ...     \n",
      "16           30          3      2002  34000  192          1          0  ...     \n",
      "17           24          9      2002  21716  110          1          0  ...     \n",
      "18           24          9      2002  25563  110          0          0  ...     \n",
      "19           30          3      2002  64359  110          1          0  ...     \n",
      "20           30          3      2002  67660  110          1          0  ...     \n",
      "21           29          4      2002  43905  110          0          1  ...     \n",
      "22           28          5      2002  56349  110          1          0  ...     \n",
      "23           28          5      2002  32220  110          1          0  ...     \n",
      "24           29          4      2002  25813  110          1          0  ...     \n",
      "25           25          8      2002  28450  110          1          0  ...     \n",
      "26           27          6      2002  34545  110          1          0  ...     \n",
      "27           29          4      2002  41415  110          1          0  ...     \n",
      "28           28          5      2002  44142  110          0          0  ...     \n",
      "29           30          3      2002  11090  110          1          0  ...     \n",
      "...         ...        ...       ...    ...  ...        ...        ...  ...     \n",
      "1406         70         11      1998  44850  110          1          0  ...     \n",
      "1407         69         12      1998  44826  110          0          0  ...     \n",
      "1408         80          1      1998  44444  110          1          0  ...     \n",
      "1409         75          6      1998  43720  110          1          0  ...     \n",
      "1410         78          3      1998  43622   86          1          0  ...     \n",
      "1411         76          5      1998  43532  110          0          0  ...     \n",
      "1412         69         12      1998  42800  110          1          0  ...     \n",
      "1413         74          7      1998  42317  107          1          1  ...     \n",
      "1414         80          1      1998  42186  110          1          0  ...     \n",
      "1415         72          9      1998  42000  110          1          0  ...     \n",
      "1416         79          2      1998  40093  110          0          0  ...     \n",
      "1417         79          2      1998  39800  107          0          1  ...     \n",
      "1418         73          8      1998  39168   86          0          0  ...     \n",
      "1419         75          6      1998  38945  110          1          0  ...     \n",
      "1420         76          5      1998  36537  110          0          1  ...     \n",
      "1421         78          3      1998  36000   86          0          1  ...     \n",
      "1422         78          3      1998  36000  110          1          0  ...     \n",
      "1423         80          1      1998  35821   86          0          1  ...     \n",
      "1424         73          8      1998  34717   86          0          0  ...     \n",
      "1425         80          1      1998  34000   86          1          0  ...     \n",
      "1426         78          3      1998  30964  110          0          1  ...     \n",
      "1427         71         10      1998  29000   86          1          1  ...     \n",
      "1428         72          9      1998  26000   86          0          0  ...     \n",
      "1429         78          3      1998  24000   86          1          1  ...     \n",
      "1430         80          1      1998  23000   86          0          0  ...     \n",
      "1431         69         12      1998  20544   86          1          0  ...     \n",
      "1432         72          9      1998  19000   86          0          0  ...     \n",
      "1433         71         10      1998  17016   86          0          0  ...     \n",
      "1434         70         11      1998  16916   86          1          0  ...     \n",
      "1435         76          5      1998      1  110          0          0  ...     \n",
      "\n",
      "      Petrol  Beige  Silver  Grey  Red  Green  Violet  White  Yellow  Black  \n",
      "0          0      0       0     0    0      0       0      0       0      0  \n",
      "1          0      0       1     0    0      0       0      0       0      0  \n",
      "2          0      0       0     0    0      0       0      0       0      0  \n",
      "3          0      0       0     0    0      0       0      0       0      1  \n",
      "4          0      0       0     0    0      0       0      0       0      1  \n",
      "5          0      0       0     0    0      0       0      1       0      0  \n",
      "6          0      0       0     1    0      0       0      0       0      0  \n",
      "7          0      0       0     1    0      0       0      0       0      0  \n",
      "8          1      0       0     0    1      0       0      0       0      0  \n",
      "9          0      0       0     0    0      0       0      0       0      0  \n",
      "10         1      0       1     0    0      0       0      0       0      0  \n",
      "11         1      0       0     0    1      0       0      0       0      0  \n",
      "12         1      0       0     0    1      0       0      0       0      0  \n",
      "13         1      0       0     0    0      0       0      0       0      1  \n",
      "14         1      0       0     1    0      0       0      0       0      0  \n",
      "15         1      0       0     1    0      0       0      0       0      0  \n",
      "16         1      0       0     1    0      0       0      0       0      0  \n",
      "17         1      0       0     0    0      0       0      0       0      0  \n",
      "18         1      0       0     1    0      0       0      0       0      0  \n",
      "19         1      0       0     1    0      0       0      0       0      0  \n",
      "20         1      0       0     0    0      0       0      0       0      0  \n",
      "21         1      0       0     1    0      0       0      0       0      0  \n",
      "22         1      0       0     0    0      0       0      0       0      1  \n",
      "23         1      0       0     0    0      0       0      0       0      1  \n",
      "24         1      0       0     1    0      0       0      0       0      0  \n",
      "25         1      0       0     0    0      0       0      0       0      0  \n",
      "26         1      0       0     0    0      0       0      0       0      0  \n",
      "27         1      0       0     0    0      0       0      0       0      1  \n",
      "28         1      0       0     1    0      0       0      0       0      0  \n",
      "29         1      0       0     0    0      0       0      0       0      0  \n",
      "...      ...    ...     ...   ...  ...    ...     ...    ...     ...    ...  \n",
      "1406       1      0       0     0    0      0       0      0       0      0  \n",
      "1407       1      0       0     0    1      0       0      0       0      0  \n",
      "1408       1      0       0     0    0      0       0      0       0      0  \n",
      "1409       1      0       0     1    0      0       0      0       0      0  \n",
      "1410       1      0       0     1    0      0       0      0       0      0  \n",
      "1411       1      0       0     0    0      0       0      1       0      0  \n",
      "1412       1      0       0     0    0      0       0      0       0      1  \n",
      "1413       1      0       0     0    0      0       0      0       0      1  \n",
      "1414       1      0       0     0    0      1       0      0       0      0  \n",
      "1415       1      0       0     0    1      0       0      0       0      0  \n",
      "1416       1      0       0     0    1      0       0      0       0      0  \n",
      "1417       1      0       0     0    0      1       0      0       0      0  \n",
      "1418       1      0       0     0    1      0       0      0       0      0  \n",
      "1419       1      1       0     0    0      0       0      0       0      0  \n",
      "1420       1      0       0     0    1      0       0      0       0      0  \n",
      "1421       1      0       0     0    0      1       0      0       0      0  \n",
      "1422       1      0       0     0    0      0       0      0       0      0  \n",
      "1423       1      0       0     0    1      0       0      0       0      0  \n",
      "1424       1      0       0     0    1      0       0      0       0      0  \n",
      "1425       1      0       1     0    0      0       0      0       0      0  \n",
      "1426       1      0       1     0    0      0       0      0       0      0  \n",
      "1427       1      0       0     0    0      0       0      0       0      0  \n",
      "1428       1      0       0     0    0      0       0      1       0      0  \n",
      "1429       1      0       0     0    0      1       0      0       0      0  \n",
      "1430       1      0       0     0    0      0       0      0       0      0  \n",
      "1431       1      0       0     0    0      0       0      0       0      0  \n",
      "1432       1      0       0     1    0      0       0      0       0      0  \n",
      "1433       1      0       0     0    0      0       0      0       0      0  \n",
      "1434       1      0       0     1    0      0       0      0       0      0  \n",
      "1435       1      0       0     0    0      1       0      0       0      0  \n",
      "\n",
      "[1436 rows x 48 columns]\n"
     ]
    }
   ],
   "source": [
    "print(table)"
   ]
  },
  {
   "cell_type": "code",
   "execution_count": 12,
   "metadata": {
    "collapsed": true
   },
   "outputs": [],
   "source": [
    "X = table[['Age_08_04', 'Mfg_Month', 'Mfg_Year', 'KM',\n",
    "       'HP', 'Met_Color', 'Automatic', 'CC', 'Doors', 'Cylinders', 'Gears',\n",
    "       'Quarterly_Tax', 'Weight', 'Mfr_Guarantee', 'BOVAG_Guarantee',\n",
    "       'Guarantee_Period', 'ABS', 'Airbag_1', 'Airbag_2', 'Airco',\n",
    "       'Automatic_airco', 'Boardcomputer', 'CD_Player', 'Central_Lock',\n",
    "       'Powered_Windows', 'Power_Steering', 'Radio', 'Mistlamps',\n",
    "       'Sport_Model', 'Backseat_Divider', 'Metallic_Rim', 'Radio_cassette',\n",
    "       'Parking_Assistant', 'Tow_Bar', 'Diesel', 'Petrol', 'Silver',\n",
    "       'Violet', 'Grey', 'Yellow', 'Beige', 'Green', 'Red', 'Black',\n",
    "       'White']]\n",
    "y = table['Price']\n",
    "\n",
    "X = X.as_matrix()\n",
    "y = y.as_matrix()"
   ]
  },
  {
   "cell_type": "code",
   "execution_count": 13,
   "metadata": {
    "collapsed": true
   },
   "outputs": [],
   "source": [
    "import numpy as np\n",
    "\n",
    "#Shuffle data\n",
    "permutation = np.random.permutation(len(X))\n",
    "X = X[permutation]\n",
    "y = y[permutation]\n",
    "\n",
    "# Split data\n",
    "N_train = int(len(X) * 4 / 5)\n",
    "\n",
    "X_train = X[:N_train]\n",
    "y_train = y[:N_train]\n",
    "\n",
    "X_test = X[N_train:]\n",
    "y_test = y[N_train:]"
   ]
  },
  {
   "cell_type": "markdown",
   "metadata": {},
   "source": [
    "# Linear Regression Using Scikit-Learn"
   ]
  },
  {
   "cell_type": "code",
   "execution_count": 14,
   "metadata": {
    "collapsed": true
   },
   "outputs": [],
   "source": [
    "from sklearn import linear_model\n",
    "\n",
    "lm = linear_model.LinearRegression()\n",
    "model = lm.fit(X_train,y_train)"
   ]
  },
  {
   "cell_type": "code",
   "execution_count": 15,
   "metadata": {},
   "outputs": [
    {
     "data": {
      "text/plain": [
       "array([-1.15405782e+02, -9.28749401e+01,  1.73567268e+01, -1.62204228e-02,\n",
       "        1.77905202e+01, -4.07448387e+01,  3.82897434e+02, -9.32081547e-02,\n",
       "        6.48687661e+01,  5.68434189e-14,  8.14203246e+01,  1.34293924e+01,\n",
       "        9.71689374e+00,  2.86105713e+02,  3.59867454e+02,  6.62694851e+01,\n",
       "       -2.05100423e+02, -1.09684559e+01, -1.24881056e+02,  2.41972809e+02,\n",
       "        2.58338007e+03, -2.30685498e+02,  1.89972240e+02, -7.47198388e+01,\n",
       "        3.43924971e+02,  1.79530311e+02,  5.28408813e+02, -2.64369587e+01,\n",
       "        3.42282584e+02, -2.29558656e+02,  1.91395648e+02, -5.93893178e+02,\n",
       "       -7.04089329e+02, -2.11983466e+02,  4.84519032e+01,  1.03843543e+03,\n",
       "       -1.08688734e+03,  2.73759411e+02, -2.10591766e+02,  3.53725278e+02,\n",
       "       -1.77782279e+02, -1.41983098e+02, -1.06984592e+02,  9.98291065e+01,\n",
       "        2.27663115e+02,  2.46591977e+02, -5.64227152e+02])"
      ]
     },
     "execution_count": 15,
     "metadata": {},
     "output_type": "execute_result"
    }
   ],
   "source": [
    "model.coef_"
   ]
  },
  {
   "cell_type": "markdown",
   "metadata": {},
   "source": [
    "## Evaluation"
   ]
  },
  {
   "cell_type": "code",
   "execution_count": 16,
   "metadata": {
    "collapsed": true
   },
   "outputs": [],
   "source": [
    "y_train_hat = model.predict(X_train)\n",
    "y_test_hat = model.predict(X_test)"
   ]
  },
  {
   "cell_type": "code",
   "execution_count": 17,
   "metadata": {},
   "outputs": [
    {
     "name": "stdout",
     "output_type": "stream",
     "text": [
      "[22500  9895  8750  9500  8250 10950 11500 21950 10750  5950]\n",
      "[20808.  9063.  7298. 10914.  9040. 10971. 11446. 20367. 11623.  6928.]\n"
     ]
    }
   ],
   "source": [
    "print(np.round(y_train[:10]))\n",
    "print(np.round(y_train_hat[:10]))"
   ]
  },
  {
   "cell_type": "code",
   "execution_count": 18,
   "metadata": {},
   "outputs": [
    {
     "name": "stdout",
     "output_type": "stream",
     "text": [
      "[ 9450  9750  9500 18950  7950 15950  6950 11450  7200  8500]\n",
      "[ 9877.  9926.  7974. 19472.  8506. 16901.  6132. 12943.  7073.  8166.]\n"
     ]
    }
   ],
   "source": [
    "print(np.round(y_test[:10]))\n",
    "print(np.round(y_test_hat[:10]))"
   ]
  },
  {
   "cell_type": "code",
   "execution_count": 19,
   "metadata": {},
   "outputs": [
    {
     "name": "stdout",
     "output_type": "stream",
     "text": [
      "Train r^2:  0.9107571206082735\n",
      "Test r^2:  0.9078512159417295\n"
     ]
    }
   ],
   "source": [
    "from sklearn import metrics\n",
    "\n",
    "print(\"Train r^2: \", metrics.r2_score(y_train, y_train_hat))\n",
    "print(\"Test r^2: \", metrics.r2_score(y_test, y_test_hat))"
   ]
  },
  {
   "cell_type": "markdown",
   "metadata": {},
   "source": [
    "# Regularization"
   ]
  },
  {
   "cell_type": "code",
   "execution_count": 20,
   "metadata": {
    "collapsed": true
   },
   "outputs": [],
   "source": [
    "from sklearn import linear_model\n",
    "\n",
    "lm = linear_model.Lasso(alpha=0.1, max_iter=10000)\n",
    "model = lm.fit(X_train,y_train)"
   ]
  },
  {
   "cell_type": "code",
   "execution_count": 21,
   "metadata": {
    "collapsed": true
   },
   "outputs": [],
   "source": [
    "y_train_hat = model.predict(X_train)\n",
    "y_test_hat = model.predict(X_test)"
   ]
  },
  {
   "cell_type": "code",
   "execution_count": 22,
   "metadata": {},
   "outputs": [
    {
     "name": "stdout",
     "output_type": "stream",
     "text": [
      "Train r^2:  0.9107541091112991\n",
      "Test r^2:  0.9078513330509672\n"
     ]
    }
   ],
   "source": [
    "from sklearn import metrics\n",
    "\n",
    "print(\"Train r^2: \", metrics.r2_score(y_train, y_train_hat))\n",
    "print(\"Test r^2: \", metrics.r2_score(y_test, y_test_hat))"
   ]
  },
  {
   "cell_type": "code",
   "execution_count": null,
   "metadata": {
    "collapsed": true
   },
   "outputs": [],
   "source": []
  }
 ],
 "metadata": {
  "kernelspec": {
   "display_name": "Python 2",
   "language": "python",
   "name": "python2"
  },
  "language_info": {
   "codemirror_mode": {
    "name": "ipython",
    "version": 2
   },
   "file_extension": ".py",
   "mimetype": "text/x-python",
   "name": "python",
   "nbconvert_exporter": "python",
   "pygments_lexer": "ipython2",
   "version": "2.7.14"
  }
 },
 "nbformat": 4,
 "nbformat_minor": 2
}
